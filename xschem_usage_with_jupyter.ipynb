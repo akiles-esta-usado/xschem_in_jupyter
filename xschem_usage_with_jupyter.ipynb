{
 "cells": [
  {
   "cell_type": "markdown",
   "id": "8ae51ca4",
   "metadata": {},
   "source": [
    "# Exploratory Stuff"
   ]
  },
  {
   "cell_type": "code",
   "execution_count": 46,
   "id": "b92c742a",
   "metadata": {},
   "outputs": [],
   "source": [
    "from pprint import pprint\n",
    "from pathlib import Path\n",
    "import os\n",
    "\n",
    "#pprint(dict(os.environ))\n",
    "\n",
    "project = {\"cwd\": Path.cwd()}\n",
    "\n",
    "project[\"xschem\"]              = Path(os.environ[\"PDKPATH\"]) / \"libs.tech\" / \"xschem\"\n",
    "project[\"xschem_library\"]      = Path(\"/foss/tools/xschem/share/xschem/xschem_library\")\n",
    "\n",
    "# Schematics and Symbols\n",
    "project[\"inverter_schem\"]      = project[\"cwd\"] / \"inverter.sch\"\n",
    "project[\"nmos_schem\"]          = project[\"cwd\"] / \"nmos_charac_IPD413HW1.sch\"\n",
    "project[\"inverter_sym\"]        = project[\"cwd\"] / \"inverter.sym\"\n",
    "project[\"inverter_tb_schem\"]   = project[\"cwd\"] / \"inverter_tb.sch\"\n",
    "\n",
    "#!ls {project[\"xschem_library\"]}\n",
    "for name, path in project.items():\n",
    "    if (not path.exists()):\n",
    "        print(name, \" no existe\")\n",
    "    #print(path.resolve(), path.exists())"
   ]
  },
  {
   "cell_type": "code",
   "execution_count": 47,
   "id": "cb90b194",
   "metadata": {},
   "outputs": [
    {
     "name": "stdout",
     "output_type": "stream",
     "text": [
      "\u001b[?2004h\u001b[0;31mxschem\u001b[0m [/foss/designs/jupyter] \u001b[?2004l\n",
      "\u001b[?2004h\u001b[0;31mxschem\u001b[0m [/foss/designs/jupyter] \u001b[?2004l\n",
      "\n",
      "\n"
     ]
    }
   ],
   "source": [
    "class Xschem():\n",
    "    def __init__(self, libraries: list):\n",
    "        !echo set XSCHEM_LIBRARY_PATH {':'.join(map(str, libraries))} > {project[\"cwd\"]}/xschemrc\n",
    "\n",
    "    def edit(self, filename):\n",
    "        !xschem {filename}\n",
    "\n",
    "    def compile(self, filename):\n",
    "        !xschem -n -x -o \"spices\" -q {filename} << \"EOF\\nquit\\nEOF\"\n",
    "\n",
    "    def simulate(self, sim_file):\n",
    "        pass\n",
    "\n",
    "xschem_libraries= [\n",
    "    project['xschem'],\n",
    "    project['xschem_library'],\n",
    "    project['cwd']\n",
    "]\n",
    "\n",
    "xschem = Xschem(xschem_libraries)\n",
    "\n",
    "xschem.edit(project[\"nmos_schem\"])\n",
    "xschem.edit(project[\"inverter_schem\"])\n",
    "\n",
    "xschem.compile(project[\"nmos_schem\"])\n",
    "xschem.compile(project[\"inverter_schem\"])"
   ]
  },
  {
   "cell_type": "code",
   "execution_count": 6,
   "id": "fab646ea",
   "metadata": {},
   "outputs": [
    {
     "name": "stdout",
     "output_type": "stream",
     "text": [
      "inverter.spice\tnmos_charac_IPD413HW1.spice\r\n"
     ]
    }
   ],
   "source": [
    "!ls spices"
   ]
  },
  {
   "cell_type": "code",
   "execution_count": 7,
   "id": "97cc6d38",
   "metadata": {},
   "outputs": [
    {
     "name": "stdout",
     "output_type": "stream",
     "text": [
      "** sch_path: /foss/designs/jupyter/nmos_charac_IPD413HW1.sch\r\n",
      "**.subckt nmos_charac_IPD413HW1 g1 d1\r\n",
      "*.ipin g1\r\n",
      "*.iopin d1\r\n",
      "XM1 d1 g1 GND GND sky130_fd_pr__nfet_01v8 L=0.3 W=10 nf=1 ad='int((nf+1)/2) * W/nf * 0.29' as='int((nf+2)/2) * W/nf * 0.29'\r\n",
      "+ pd='2*int((nf+1)/2) * (W/nf + 0.29)' ps='2*int((nf+2)/2) * (W/nf + 0.29)' nrd='0.29 / W' nrs='0.29 / W'\r\n",
      "+ sa=0 sb=0 sd=0 mult=1 m=1\r\n",
      "**** begin user architecture code\r\n",
      "\r\n",
      "\r\n"
     ]
    }
   ],
   "source": [
    "!head spices/nmos_charac_IPD413HW1.spice"
   ]
  },
  {
   "cell_type": "markdown",
   "id": "02ed584e",
   "metadata": {},
   "source": [
    "## PySpice usage"
   ]
  },
  {
   "cell_type": "code",
   "execution_count": null,
   "id": "d92cb1d3",
   "metadata": {},
   "outputs": [],
   "source": [
    "from PySpice.Logging.Logging import setup_logging\n",
    "logger = setup_logging()\n",
    "from PySpice.Spice.Netlist import Circuit, SubCircuitFactory\n",
    "from PySpice.Unit import *\n",
    "\n",
    "test = Circuit(\"test\")\n",
    "\n",
    "with open(\"spices/nmos_charac_IPD413HW1.spice\", \"r\") as f:\n",
    "    raw_spice = f.read()\n",
    "    print(\"Raw spice is: \", raw_spice)\n",
    "    test.raw_spice = raw_spice\n",
    "    \n",
    "    print(\"Circuit is: \", test)\n"
   ]
  },
  {
   "cell_type": "code",
   "execution_count": null,
   "id": "8685fc00",
   "metadata": {},
   "outputs": [],
   "source": [
    "from PySpice.Spice.Netlist import Circuit, SubCircuitFactory\n",
    "from PySpice.Unit import *\n",
    "\n",
    "\n",
    "class SubCircuit1(SubCircuitFactory):\n",
    "    NAME = 'sub_circuit1'\n",
    "    NODES = ('n1', 'n2')\n",
    "    def __init__(self):\n",
    "        super().__init__()\n",
    "        self.R(1, 'n1', 'n2', 1@u_Ω)\n",
    "        self.R(2, 'n1', 'n2', 2@u_Ω)"
   ]
  },
  {
   "cell_type": "code",
   "execution_count": null,
   "id": "6b1ac2ab",
   "metadata": {},
   "outputs": [],
   "source": [
    "circuit = Circuit(\"Test\")\n",
    "\n",
    "with open(project[\"inverter_schem\"],\"r\") as f:\n",
    "    print(f.read())"
   ]
  },
  {
   "cell_type": "code",
   "execution_count": 8,
   "id": "581c68b1",
   "metadata": {},
   "outputs": [],
   "source": [
    "#test.simulator()\n",
    "# We have to connect ngspice with this."
   ]
  },
  {
   "cell_type": "markdown",
   "id": "398a17a8",
   "metadata": {},
   "source": [
    "## Ngspyce"
   ]
  },
  {
   "cell_type": "code",
   "execution_count": 12,
   "id": "7b57dcc2",
   "metadata": {},
   "outputs": [],
   "source": [
    "# import ngspyce\n",
    "# OSError: /foss/tools/ngspice/ngspice/lib/libngspice.so.0: undefined symbol: cvprod"
   ]
  },
  {
   "cell_type": "code",
   "execution_count": 13,
   "id": "2109d9f6",
   "metadata": {},
   "outputs": [
    {
     "name": "stdout",
     "output_type": "stream",
     "text": [
      "libngspice.la  libngspice.so.0\t    ngspice\r\n",
      "libngspice.so  libngspice.so.0.0.7  pkgconfig\r\n"
     ]
    }
   ],
   "source": [
    "!ls /foss/tools/ngspice/ngspice/lib/"
   ]
  },
  {
   "cell_type": "markdown",
   "id": "eed8043a",
   "metadata": {},
   "source": [
    "## Skidl\n",
    "Estoy tratando de simplificar la simulación, ojalá esto funcione\n",
    "\n"
   ]
  },
  {
   "cell_type": "code",
   "execution_count": 17,
   "id": "33b48bf3",
   "metadata": {},
   "outputs": [
    {
     "name": "stdout",
     "output_type": "stream",
     "text": [
      "Defaulting to user installation because normal site-packages is not writeable\n",
      "Requirement already satisfied: skidl in /headless/.local/lib/python3.10/site-packages (1.1.0)\n",
      "Requirement already satisfied: kinet2pcb in /headless/.local/lib/python3.10/site-packages (from skidl) (1.1.0)\n",
      "Requirement already satisfied: kinparse>=0.1.0 in /headless/.local/lib/python3.10/site-packages (from skidl) (1.2.0)\n",
      "Requirement already satisfied: future>=0.15.0 in /headless/.local/lib/python3.10/site-packages (from skidl) (0.18.3)\n",
      "Requirement already satisfied: graphviz in /usr/local/lib/python3.10/dist-packages (from skidl) (0.20.1)\n",
      "Requirement already satisfied: pyparsing>=2.1.1 in /usr/lib/python3/dist-packages (from kinparse>=0.1.0->skidl) (2.4.7)\n",
      "Requirement already satisfied: hierplace in /headless/.local/lib/python3.10/site-packages (from kinet2pcb->skidl) (1.0.0)\n"
     ]
    }
   ],
   "source": [
    "# This may require restart the kernel\n",
    "!pip install skidl\n",
    "\n",
    "# https://github.com/devbisme/skidl/blob/master/examples/spice-sim-intro/spice-sim-intro.ipynb"
   ]
  },
  {
   "cell_type": "code",
   "execution_count": 18,
   "id": "06646a88",
   "metadata": {},
   "outputs": [],
   "source": [
    "import skidl"
   ]
  },
  {
   "cell_type": "markdown",
   "id": "f24b1239",
   "metadata": {},
   "source": [
    "## Klayout and Gds Viewing"
   ]
  },
  {
   "cell_type": "code",
   "execution_count": 19,
   "id": "a6f6fa41",
   "metadata": {},
   "outputs": [],
   "source": [
    "#!klayout\n",
    "# This works, but I don't have any gds :("
   ]
  },
  {
   "cell_type": "markdown",
   "id": "34cbbde1",
   "metadata": {},
   "source": [
    "## Spice Reducer\n",
    "This works when a large model tends to hang jupyter.\n",
    "\n",
    "I think that this won't reduce common spice files :("
   ]
  },
  {
   "cell_type": "code",
   "execution_count": 42,
   "id": "99dd3b95",
   "metadata": {},
   "outputs": [
    {
     "name": "stdout",
     "output_type": "stream",
     "text": [
      "#!/usr/bin/env python3\r\n",
      "# ========================================================================\r\n",
      "# SPDX-FileCopyrightText: 2021-2022 Harald Pretl\r\n",
      "# Johannes Kepler University, Institute for Integrated Circuits\r\n",
      "#\r\n",
      "# Licensed under the Apache License, Version 2.0 (the \"License\");\r\n",
      "# you may not use this file except in compliance with the License.\r\n",
      "# You may obtain a copy of the License at\r\n",
      "#\r\n",
      "#     http://www.apache.org/licenses/LICENSE-2.0\r\n",
      "#\r\n",
      "# Unless required by applicable law or agreed to in writing, software\r\n",
      "# distributed under the License is distributed on an \"AS IS\" BASIS,\r\n",
      "# WITHOUT WARRANTIES OR CONDITIONS OF ANY KIND, either express or implied.\r\n",
      "# See the License for the specific language governing permissions and\r\n",
      "# limitations under the License.\r\n",
      "# SPDX-License-Identifier: Apache-2.0\r\n",
      "#\r\n",
      "# This script traverses SPICE model files (e.g. from SKY130) and\r\n",
      "# extracts only the wanted model section, removes all comments and\r\n",
      "# empty lines, and resolves all includes so that a flat model file\r\n",
      "# results. This should speed up ngspice starts.\r\n",
      "# ========================================================================\r\n",
      "\r\n",
      "import sys,re,os\r\n",
      "\r\n",
      "def process_file(file_in_name, top_file):\r\n",
      "    global is_warning\r\n",
      "    try:\r\n",
      "        f_in = open(file_in_name, 'r')\r\n",
      "    except FileNotFoundError:\r\n",
      "        print('Warning! File ' + file_in_name + ' not found.')\r\n",
      "        is_warning = True\r\n",
      "        return;\r\n",
      "\r\n",
      "    # process_file can be called recursively, so that nested include\r\n",
      "    # files can be traversed\r\n",
      "\r\n",
      "    # write_active indicates whether we are in the right model section; in\r\n",
      "    # include files, it is always true\r\n",
      "\r\n",
      "    if top_file == True:\r\n",
      "        write_active = False\r\n",
      "    else:\r\n",
      "        write_active = True\r\n",
      "    \r\n",
      "    for line in f_in:\r\n",
      "        line_trim = (line.lower()).strip()\r\n",
      "\r\n",
      "        if top_file == True:\r\n",
      "            # we assume that .lib statements are only used in the main file\r\n",
      "            if '.lib' in line_trim:\r\n",
      "                if model_section in line_trim: \r\n",
      "                    write_active = True\r\n",
      "                else:\r\n",
      "                    write_active = False\r\n",
      "        \r\n",
      "            if '.endl' == line_trim:\r\n",
      "                write_active = False\r\n",
      "                f_out.write(line)\r\n",
      "\r\n",
      "        if len(line_trim) > 0: # write no empty lines\r\n",
      "            if (line_trim[0] != '*'): # write no comments\r\n",
      "                if (write_active == True):\r\n",
      "                    if '.include' in line_trim:\r\n",
      "                        # need to save and restore working dir so that nested \r\n",
      "                        # includes work\r\n",
      "                        current_wd = os.getcwd()\r\n",
      "                        newfile = re.findall(r'\"(.*?)(?<!\\\\)\"', line_trim)\r\n",
      "                        print('Reading ',newfile[0])\r\n",
      "\r\n",
      "                        # enter new working dir\r\n",
      "                        new_wd = os.path.dirname(newfile[0]) \r\n",
      "                        if len(new_wd) > 0:\r\n",
      "                            try:\r\n",
      "                                os.chdir(new_wd)\r\n",
      "                            except OSError:\r\n",
      "                                print('Warning: Could not enter directory ' + new_wd)\r\n",
      "                                is_warning = True\r\n",
      "\r\n",
      "                        # traverse into new include file\r\n",
      "                        new_file_name = os.path.basename(newfile[0]) \r\n",
      "                        process_file(new_file_name, False) \r\n",
      "                        \r\n",
      "                        # restore old working dir after return\r\n",
      "                        os.chdir(current_wd)\r\n",
      "                    else:\r\n",
      "                        f_out.write(line)\r\n",
      "\r\n",
      "    f_in.close()\r\n",
      "    return;\r\n",
      "\r\n",
      "# main routine\r\n",
      "\r\n",
      "if len(sys.argv) == 3:\r\n",
      "    model_section = sys.argv[2]\r\n",
      "else:\r\n",
      "    model_section = 'tt'\r\n",
      "\r\n",
      "if (len(sys.argv) == 2) or (len(sys.argv) == 3):\r\n",
      "    infile_name = sys.argv[1]\r\n",
      "    outfile_name = infile_name + '.' + model_section + '.red'\r\n",
      "\r\n",
      "    try:\r\n",
      "        f_out = open(outfile_name, 'w')\r\n",
      "    except OSError:\r\n",
      "        print('Error: Cannot write file ' + outfile_name + '.')\r\n",
      "        sys.exit(1)\r\n",
      "    \r\n",
      "    is_warning = False\r\n",
      "    process_file(infile_name, True)\r\n",
      "    f_out.close()\r\n",
      "    \r\n",
      "    print()\r\n",
      "    print('Model file ' + outfile_name + ' written.')\r\n",
      "    if is_warning == True:\r\n",
      "        print('There have been warnings! Please check output log.')\r\n",
      "        sys.exit(0)\r\n",
      "    else:\r\n",
      "        sys.exit(0) \r\n",
      "else:\r\n",
      "    print()\r\n",
      "    print('iic-spice-model-red.py    SPICE model file reducer')\r\n",
      "    print('                          (c) 2021 Harald Pretl, JKU')\r\n",
      "    print()\r\n",
      "    print('Usage: iic-spice-model-red <inputfile> [corner] (default corner = tt)')\r\n",
      "    print()\r\n",
      "    print('Return codes for script automation:')\r\n",
      "    print('  0 = all OK or warnings')\r\n",
      "    print('  1 = errors')\r\n",
      "    print('  2 = call of script w/o parameters (= showing this message)')\r\n",
      "    print()\r\n",
      "    sys.exit(2)\r\n"
     ]
    }
   ],
   "source": [
    "!cat $DESIGNS/../tools/iic-osic/iic-spice-model-red.py"
   ]
  },
  {
   "cell_type": "code",
   "execution_count": 43,
   "id": "f5412b5b",
   "metadata": {},
   "outputs": [
    {
     "name": "stdout",
     "output_type": "stream",
     "text": [
      "\r\n",
      "Model file ./spices/inverter.spice.tt.red written.\r\n"
     ]
    }
   ],
   "source": [
    "!iic-spice-model-red.py ./spices/inverter.spice"
   ]
  },
  {
   "cell_type": "code",
   "execution_count": 44,
   "id": "243a089c",
   "metadata": {},
   "outputs": [
    {
     "name": "stdout",
     "output_type": "stream",
     "text": [
      "total 8.0K\r\n",
      "-rw-r--r-- 1 designer designers  662 May 17 05:20 inverter.spice\r\n",
      "-rw-r--r-- 1 designer designers    0 May 17 05:36 inverter.spice.tt.red\r\n",
      "-rw-r--r-- 1 designer designers 1.2K May 17 05:20 nmos_charac_IPD413HW1.spice\r\n"
     ]
    }
   ],
   "source": [
    "!ls -lh spices/"
   ]
  }
 ],
 "metadata": {
  "kernelspec": {
   "display_name": "Python 3 (ipykernel)",
   "language": "python",
   "name": "python3"
  },
  "language_info": {
   "codemirror_mode": {
    "name": "ipython",
    "version": 3
   },
   "file_extension": ".py",
   "mimetype": "text/x-python",
   "name": "python",
   "nbconvert_exporter": "python",
   "pygments_lexer": "ipython3",
   "version": "3.10.6"
  }
 },
 "nbformat": 4,
 "nbformat_minor": 5
}
